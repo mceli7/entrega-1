{
 "cells": [
  {
   "cell_type": "markdown",
   "metadata": {
    "id": "PgHJzvphFMq-"
   },
   "source": [
    "# Python 2023 - Práctica 2"
   ]
  },
  {
   "cell_type": "markdown",
   "metadata": {},
   "source": [
    "10. Dada una lista de nombres de estudiantes y dos listas con sus notas en un curso, escriba un programa que manipule dichas estructuras de datos para poder resolver los siguientes puntos:\n",
    "    1. Generar una estructura con todas las notas relacionando el nombre del estudiante con las notas. Utilizar esta estructura para la resolución de los siguientes items.\n",
    "    2. Calcular el promedio de notas de cada estudiante.\n",
    "    3. Calcular el promedio general del curso.\n",
    "    4. Identificar al estudiante con la nota promedio más alta.\n",
    "    5. Identificar al estudiante con la nota más baja.\n",
    "\n",
    "\n",
    "**Nota**:\n",
    "- Las 3 estructuras están ordenadas de forma que los elementos en la misma posición corresponden a un mismo alumno.\n",
    "- Realizar funciones con cada item\n",
    "\n"
   ]
  },
  {
   "cell_type": "code",
   "execution_count": null,
   "metadata": {},
   "outputs": [],
   "source": [
    "nombres = ''' 'Agustin', 'Alan', 'Andrés', 'Ariadna', 'Bautista', 'CAROLINA', 'CESAR', \n",
    "'David','Diego', 'Dolores', 'DYLAN', 'ELIANA', 'Emanuel', 'Fabián', 'Facundo', \n",
    "'Francsica', 'FEDERICO', 'Fernanda', 'GONZALO', 'Gregorio', 'Ignacio', 'Jonathan', \n",
    "'Joaquina', 'Jorge','JOSE', 'Javier', 'Joaquín'  , 'Julian', 'Julieta', 'Luciana',\n",
    "'LAUTARO', 'Leonel', 'Luisa', 'Luis', 'Marcos', 'María', 'MATEO', 'Matias', \n",
    "'Nicolás',  'Nancy', 'Noelia', 'Pablo', 'Priscila', 'Sabrina', 'Tomás', 'Ulises',\n",
    "'Yanina' '''\n",
    "notas_1 = [81,  60, 72, 24, 15, 91, 12, 70, 29, 42, 16, 3, 35, 67, 10, 57, 11, 69, \n",
    "           12, 77, 13, 86, 48, 65, 51, 41, 87, 43, 10, 87, 91, 15, 44, \n",
    "           85, 73, 37, 42, 95, 18, 7,     74, 60, 9, 65, 93, 63, 74]\n",
    "notas_2 = [30, 95, 28, 84, 84, 43, 66, 51, 4, 11, 58, 10, 13, 34, 96, 71, 86, 37,\n",
    "           64, 13, 8, 87, 14, 14, 49, 27, 55, 69, 77, 59, 57, 40, 96, 24, 30, 73,\n",
    "           95, 19, 47, 15, 31, 39, 15, 74, 33, 57, 10]"
   ]
  },
  {
   "cell_type": "markdown",
   "metadata": {},
   "source": [
    "# Entrega 2\n",
    "### Pautas\n",
    "   * Suba la resolución total del **ejercicio 10** al repositorio individual de Github, luego elija uno de los siguientes items: A,C,D o E y realice un video explicando cómo lo resolvió y las decisiones que tomó implementando map, zip, lambda (por qué utilizó cada estructura de datos o estructura de control) y muestre la ejecución del programa en la terminal.\n",
    "   * **Duración máxima del video**: 5 minutos\n",
    "\n",
    "   * **Puntos**: 15.\n",
    "   * **Fecha límite de entrega**: Viernes, 14 de abril de 2023, 23:59\n",
    "   * **Modalidad de entrega**: Subir el programa al repositorio de github y copie el enlace del repositorio  junto con el link del video en la resolución de la tarea de Cátedras.\n",
    "\n"
   ]
  },
  {
   "cell_type": "code",
   "execution_count": null,
   "metadata": {},
   "outputs": [],
   "source": [
    "#Entrega 2 - Ejercicio 10, inciso A\n",
    "\n",
    "nombres = ''' 'Agustin', 'Alan', 'Andrés', 'Ariadna', 'Bautista', 'CAROLINA', 'CESAR', \n",
    "'David','Diego', 'Dolores', 'DYLAN', 'ELIANA', 'Emanuel', 'Fabián', 'Facundo', \n",
    "'Francsica', 'FEDERICO', 'Fernanda', 'GONZALO', 'Gregorio', 'Ignacio', 'Jonathan', \n",
    "'Joaquina', 'Jorge','JOSE', 'Javier', 'Joaquín'  , 'Julian', 'Julieta', 'Luciana',\n",
    "'LAUTARO', 'Leonel', 'Luisa', 'Luis', 'Marcos', 'María', 'MATEO', 'Matias', \n",
    "'Nicolás',  'Nancy', 'Noelia', 'Pablo', 'Priscila', 'Sabrina', 'Tomás', 'Ulises',\n",
    "'Yanina' '''\n",
    "notas_1 = [81,  60, 72, 24, 15, 91, 12, 70, 29, 42, 16, 3, 35, 67, 10, 57, 11, 69, \n",
    "           12, 77, 13, 86, 48, 65, 51, 41, 87, 43, 10, 87, 91, 15, 44, \n",
    "           85, 73, 37, 42, 95, 18, 7,     74, 60, 9, 65, 93, 63, 74]\n",
    "notas_2 = [30, 95, 28, 84, 84, 43, 66, 51, 4, 11, 58, 10, 13, 34, 96, 71, 86, 37,\n",
    "           64, 13, 8, 87, 14, 14, 49, 27, 55, 69, 77, 59, 57, 40, 96, 24, 30, 73,\n",
    "           95, 19, 47, 15, 31, 39, 15, 74, 33, 57, 10]\n",
    "\n",
    "promedio = [] #inicializo la lista para el promedio de notas para los otros incisos\n",
    "\n",
    "#Transformo el string en una lista con formato regular. \n",
    "#Cada elemento de la lista representa el nombre del alumno, con la primera letra en mayúscula y el resto en minúscula\n",
    "alumnos = []\n",
    "\n",
    "alumnos_aux = nombres.replace('\\n', ' ').replace('\\'', '').strip(\" \").split(',')\n",
    "\n",
    "for lista in alumnos_aux:\n",
    "    alumnos.append(lista.strip().capitalize())\n",
    "\n",
    "\n",
    "#Creo un diccionario para relacionar alumno con calificaciones\n",
    "calificaciones = {}\n",
    "\n",
    "for i in range(len(alumnos)):\n",
    "    calificaciones[alumnos[i]] = (notas_1[i], notas_2[i])"
   ]
  },
  {
   "cell_type": "code",
   "execution_count": null,
   "metadata": {},
   "outputs": [],
   "source": [
    "#Entrega 2 - Ejercicio 10, inciso B\n",
    "\n",
    "def prom():\n",
    "    \"\"\" Función que calcula el promedio de calificaciones de cada estudiante y imprime en pantalla el listado en formato\n",
    "    nombre - calificacion al llamar a la función\"\"\"\n",
    "    \n",
    "    for nombre in alumnos:\n",
    "        promedio.append((calificaciones[nombre][0]+calificaciones[nombre][1])/2)\n",
    "        print(nombre.rjust(10), str((calificaciones[nombre][0]+calificaciones[nombre][1])/2).rjust(11))\n",
    "    return promedio\n",
    "\n",
    "#Inciso C\n",
    "\n",
    "def prom_gen():\n",
    "    \"\"\"Función que calcula el promedio general de todos los promedios de clasificaciones.\n",
    "    Imprime en pantalla el resultado al llamar a la función.\"\"\"\n",
    "    \n",
    "    general = sum(promedio)/len(notas_1)\n",
    "    print('El promedio general es: ',str(round(general,2)))\n",
    "    \n",
    "#Inciso D\n",
    "\n",
    "def alta():\n",
    "    \"\"\"Función de búsqueda del promedio más alto.\n",
    "    Imprime en pantalla el nombre del alumnx y su promedio al llamar a la función\"\"\"\n",
    "    maximo = promedio.index(max(promedio))\n",
    "    print(alumnos[maximo], 'tiene el promedio de notas más alto con un valor de', promedio[maximo])\n",
    "\n",
    "#Inciso E\n",
    "\n",
    "def baja():\n",
    "    \"\"\"Función de búsqueda de la calificación más baja. \n",
    "    Imprime en pantalla el nombre del alumnx correspondiente y su peor clasificación al llamar a la función.\"\"\"\n",
    "\n",
    "    minimo = (notas_1+notas_2).index(min(notas_1+notas_2))\n",
    "    print(alumnos[minimo], 'tiene la nota más baja con un puntaje de', (notas_1+notas_2)[minimo])"
   ]
  },
  {
   "cell_type": "code",
   "execution_count": null,
   "metadata": {},
   "outputs": [],
   "source": [
    "#Ejecución del código\n",
    "\n",
    "print(\"\"\"Promedio de calificaciones de cada estudiante\n",
    "--------------------------------------------------------\"\"\")\n",
    "print(\"\"\"Estudiante        Calificación promedio\"\"\")\n",
    "print(\"\"\"--------------------------------------------------------\"\"\")\n",
    "prom()\n",
    "print(\"\"\"--------------------------------------------------------\"\"\")\n",
    "prom_gen()\n",
    "print(\"\"\"--------------------------------------------------------\"\"\")\n",
    "alta()\n",
    "print(\"\"\"--------------------------------------------------------\"\"\")\n",
    "baja()\n",
    "print(\"\"\"--------------------------------------------------------\"\"\")\n"
   ]
  },
  {
   "cell_type": "code",
   "execution_count": null,
   "metadata": {},
   "outputs": [],
   "source": []
  }
 ],
 "metadata": {
  "colab": {
   "collapsed_sections": [],
   "name": "Practica 2 - Resuelta.ipynb",
   "provenance": [],
   "toc_visible": true
  },
  "kernelspec": {
   "display_name": "Python 3 (ipykernel)",
   "language": "python",
   "name": "python3"
  },
  "language_info": {
   "codemirror_mode": {
    "name": "ipython",
    "version": 3
   },
   "file_extension": ".py",
   "mimetype": "text/x-python",
   "name": "python",
   "nbconvert_exporter": "python",
   "pygments_lexer": "ipython3",
   "version": "3.9.12"
  }
 },
 "nbformat": 4,
 "nbformat_minor": 4
}
